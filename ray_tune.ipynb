{
 "cells": [
  {
   "cell_type": "markdown",
   "metadata": {},
   "source": [
    "# AutoML: Ray Tune example"
   ]
  },
  {
   "cell_type": "markdown",
   "metadata": {},
   "source": [
    "First, install the dependencies using `pip` -- which should work well even if you're using `conda` to manage Python packages.\n",
    "If you've these installed already the commands will do nothing.\n",
    "In any case, this is needed for using many of the cloud-based services for running notebooks."
   ]
  },
  {
   "cell_type": "code",
   "execution_count": null,
   "metadata": {},
   "outputs": [],
   "source": [
    "!pip install ray[rllib]\n",
    "!pip install ray[debug]\n",
    "!pip install ray[tune]\n",
    "!pip install bayesian-optimization"
   ]
  },
  {
   "cell_type": "code",
   "execution_count": null,
   "metadata": {},
   "outputs": [],
   "source": [
    "import ray\n",
    "import ray.tune\n",
    "from ray.tune.schedulers import AsyncHyperBandScheduler\n",
    "from ray.tune.suggest.bayesopt import BayesOptSearch"
   ]
  },
  {
   "cell_type": "code",
   "execution_count": null,
   "metadata": {},
   "outputs": [],
   "source": [
    "import time\n",
    "\n",
    "def easy_objective (config, reporter):\n",
    "    time.sleep(0.2)\n",
    "    \n",
    "    for i in range(config[\"iterations\"]):\n",
    "        reporter(\n",
    "            timesteps_total=i,\n",
    "            mean_loss=(config[\"height\"] - 14)**2 - abs(config[\"width\"] - 3)\n",
    "            )\n",
    "\n",
    "        time.sleep(0.02)"
   ]
  },
  {
   "cell_type": "code",
   "execution_count": null,
   "metadata": {},
   "outputs": [],
   "source": [
    "ray.init(ignore_reinit_error=True, num_cpus=2)"
   ]
  },
  {
   "cell_type": "code",
   "execution_count": null,
   "metadata": {},
   "outputs": [],
   "source": [
    "space = { \"width\": (0, 20), \"height\": (-100, 100) }\n",
    "\n",
    "algo = BayesOptSearch(\n",
    "    space,\n",
    "    metric=\"mean_loss\",\n",
    "    mode=\"min\",\n",
    "    utility_kwargs={\n",
    "        \"kind\": \"ucb\",\n",
    "        \"kappa\": 2.5,\n",
    "        \"xi\": 0.0\n",
    "    }\n",
    ")"
   ]
  },
  {
   "cell_type": "code",
   "execution_count": null,
   "metadata": {},
   "outputs": [],
   "source": [
    "# finish quickly for testing\n",
    "smoke_test = False\n",
    "\n",
    "config = {\n",
    "    \"num_samples\": 10 if smoke_test else 1000,\n",
    "    \"config\": {\n",
    "        \"iterations\": 10\n",
    "    },\n",
    "    \"stop\": {\n",
    "        \"timesteps_total\": 100\n",
    "    }\n",
    "}"
   ]
  },
  {
   "cell_type": "code",
   "execution_count": null,
   "metadata": {},
   "outputs": [],
   "source": [
    "scheduler = AsyncHyperBandScheduler(metric=\"mean_loss\", mode=\"min\")"
   ]
  },
  {
   "cell_type": "code",
   "execution_count": null,
   "metadata": {},
   "outputs": [],
   "source": [
    "ray.tune.run(\n",
    "    easy_objective,\n",
    "    name=\"my_exp\",\n",
    "    search_alg=algo,\n",
    "    scheduler=scheduler,\n",
    "    **config\n",
    ")"
   ]
  },
  {
   "cell_type": "code",
   "execution_count": null,
   "metadata": {},
   "outputs": [],
   "source": [
    "ray.shutdown()"
   ]
  }
 ],
 "metadata": {
  "kernelspec": {
   "display_name": "Python 3",
   "language": "python",
   "name": "python3"
  },
  "language_info": {
   "codemirror_mode": {
    "name": "ipython",
    "version": 3
   },
   "file_extension": ".py",
   "mimetype": "text/x-python",
   "name": "python",
   "nbconvert_exporter": "python",
   "pygments_lexer": "ipython3",
   "version": "3.7.4"
  }
 },
 "nbformat": 4,
 "nbformat_minor": 4
}
